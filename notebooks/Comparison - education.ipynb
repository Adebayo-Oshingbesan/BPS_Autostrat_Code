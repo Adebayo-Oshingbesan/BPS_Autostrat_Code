{
 "cells": [
  {
   "cell_type": "markdown",
   "metadata": {},
   "source": [
    "## MDSS SCAN ON AUTOSTRAT MODE "
   ]
  },
  {
   "cell_type": "markdown",
   "metadata": {},
   "source": [
    "Import the MDSS module and Bernoulli modules"
   ]
  },
  {
   "cell_type": "code",
   "execution_count": 1,
   "metadata": {},
   "outputs": [],
   "source": [
    "import pandas as pd\n",
    "\n",
    "import warnings\n",
    "from time import perf_counter\n",
    "\n",
    "from comp_metrics import get_metrics\n",
    "from pandas.api.types import is_numeric_dtype\n",
    "\n",
    "warnings.filterwarnings('ignore')"
   ]
  },
  {
   "cell_type": "markdown",
   "metadata": {},
   "source": [
    "### Data"
   ]
  },
  {
   "cell_type": "code",
   "execution_count": 2,
   "metadata": {},
   "outputs": [
    {
     "data": {
      "text/html": [
       "<div>\n",
       "<style scoped>\n",
       "    .dataframe tbody tr th:only-of-type {\n",
       "        vertical-align: middle;\n",
       "    }\n",
       "\n",
       "    .dataframe tbody tr th {\n",
       "        vertical-align: top;\n",
       "    }\n",
       "\n",
       "    .dataframe thead th {\n",
       "        text-align: right;\n",
       "    }\n",
       "</style>\n",
       "<table border=\"1\" class=\"dataframe\">\n",
       "  <thead>\n",
       "    <tr style=\"text-align: right;\">\n",
       "      <th></th>\n",
       "      <th>gender</th>\n",
       "      <th>region</th>\n",
       "      <th>highest_education</th>\n",
       "      <th>imd_band</th>\n",
       "      <th>age_band</th>\n",
       "      <th>num_of_prev_attempts</th>\n",
       "      <th>studied_credits</th>\n",
       "      <th>disability</th>\n",
       "      <th>final_result</th>\n",
       "    </tr>\n",
       "  </thead>\n",
       "  <tbody>\n",
       "    <tr>\n",
       "      <th>0</th>\n",
       "      <td>M</td>\n",
       "      <td>East Anglian Region</td>\n",
       "      <td>HE Qualification</td>\n",
       "      <td>90-100%</td>\n",
       "      <td>55&lt;=</td>\n",
       "      <td>0</td>\n",
       "      <td>240</td>\n",
       "      <td>N</td>\n",
       "      <td>0</td>\n",
       "    </tr>\n",
       "    <tr>\n",
       "      <th>1</th>\n",
       "      <td>F</td>\n",
       "      <td>Scotland</td>\n",
       "      <td>HE Qualification</td>\n",
       "      <td>20-30%</td>\n",
       "      <td>35-55</td>\n",
       "      <td>0</td>\n",
       "      <td>60</td>\n",
       "      <td>N</td>\n",
       "      <td>0</td>\n",
       "    </tr>\n",
       "    <tr>\n",
       "      <th>2</th>\n",
       "      <td>F</td>\n",
       "      <td>North Western Region</td>\n",
       "      <td>A Level or Equivalent</td>\n",
       "      <td>30-40%</td>\n",
       "      <td>35-55</td>\n",
       "      <td>0</td>\n",
       "      <td>60</td>\n",
       "      <td>Y</td>\n",
       "      <td>1</td>\n",
       "    </tr>\n",
       "    <tr>\n",
       "      <th>3</th>\n",
       "      <td>F</td>\n",
       "      <td>South East Region</td>\n",
       "      <td>A Level or Equivalent</td>\n",
       "      <td>50-60%</td>\n",
       "      <td>35-55</td>\n",
       "      <td>0</td>\n",
       "      <td>60</td>\n",
       "      <td>N</td>\n",
       "      <td>0</td>\n",
       "    </tr>\n",
       "    <tr>\n",
       "      <th>4</th>\n",
       "      <td>F</td>\n",
       "      <td>West Midlands Region</td>\n",
       "      <td>Lower Than A Level</td>\n",
       "      <td>50-60%</td>\n",
       "      <td>0-35</td>\n",
       "      <td>0</td>\n",
       "      <td>60</td>\n",
       "      <td>N</td>\n",
       "      <td>0</td>\n",
       "    </tr>\n",
       "    <tr>\n",
       "      <th>...</th>\n",
       "      <td>...</td>\n",
       "      <td>...</td>\n",
       "      <td>...</td>\n",
       "      <td>...</td>\n",
       "      <td>...</td>\n",
       "      <td>...</td>\n",
       "      <td>...</td>\n",
       "      <td>...</td>\n",
       "      <td>...</td>\n",
       "    </tr>\n",
       "    <tr>\n",
       "      <th>32588</th>\n",
       "      <td>F</td>\n",
       "      <td>Wales</td>\n",
       "      <td>Lower Than A Level</td>\n",
       "      <td>10-20</td>\n",
       "      <td>0-35</td>\n",
       "      <td>0</td>\n",
       "      <td>30</td>\n",
       "      <td>N</td>\n",
       "      <td>0</td>\n",
       "    </tr>\n",
       "    <tr>\n",
       "      <th>32589</th>\n",
       "      <td>F</td>\n",
       "      <td>East Anglian Region</td>\n",
       "      <td>Lower Than A Level</td>\n",
       "      <td>40-50%</td>\n",
       "      <td>35-55</td>\n",
       "      <td>0</td>\n",
       "      <td>30</td>\n",
       "      <td>N</td>\n",
       "      <td>0</td>\n",
       "    </tr>\n",
       "    <tr>\n",
       "      <th>32590</th>\n",
       "      <td>F</td>\n",
       "      <td>South Region</td>\n",
       "      <td>A Level or Equivalent</td>\n",
       "      <td>20-30%</td>\n",
       "      <td>0-35</td>\n",
       "      <td>0</td>\n",
       "      <td>30</td>\n",
       "      <td>Y</td>\n",
       "      <td>0</td>\n",
       "    </tr>\n",
       "    <tr>\n",
       "      <th>32591</th>\n",
       "      <td>F</td>\n",
       "      <td>South East Region</td>\n",
       "      <td>Lower Than A Level</td>\n",
       "      <td>90-100%</td>\n",
       "      <td>35-55</td>\n",
       "      <td>0</td>\n",
       "      <td>30</td>\n",
       "      <td>N</td>\n",
       "      <td>1</td>\n",
       "    </tr>\n",
       "    <tr>\n",
       "      <th>32592</th>\n",
       "      <td>F</td>\n",
       "      <td>Yorkshire Region</td>\n",
       "      <td>HE Qualification</td>\n",
       "      <td>50-60%</td>\n",
       "      <td>35-55</td>\n",
       "      <td>0</td>\n",
       "      <td>30</td>\n",
       "      <td>N</td>\n",
       "      <td>0</td>\n",
       "    </tr>\n",
       "  </tbody>\n",
       "</table>\n",
       "<p>32593 rows × 9 columns</p>\n",
       "</div>"
      ],
      "text/plain": [
       "      gender                region      highest_education imd_band age_band  \\\n",
       "0          M   East Anglian Region       HE Qualification  90-100%     55<=   \n",
       "1          F              Scotland       HE Qualification   20-30%    35-55   \n",
       "2          F  North Western Region  A Level or Equivalent   30-40%    35-55   \n",
       "3          F     South East Region  A Level or Equivalent   50-60%    35-55   \n",
       "4          F  West Midlands Region     Lower Than A Level   50-60%     0-35   \n",
       "...      ...                   ...                    ...      ...      ...   \n",
       "32588      F                 Wales     Lower Than A Level    10-20     0-35   \n",
       "32589      F   East Anglian Region     Lower Than A Level   40-50%    35-55   \n",
       "32590      F          South Region  A Level or Equivalent   20-30%     0-35   \n",
       "32591      F     South East Region     Lower Than A Level  90-100%    35-55   \n",
       "32592      F      Yorkshire Region       HE Qualification   50-60%    35-55   \n",
       "\n",
       "       num_of_prev_attempts  studied_credits disability  final_result  \n",
       "0                         0              240          N             0  \n",
       "1                         0               60          N             0  \n",
       "2                         0               60          Y             1  \n",
       "3                         0               60          N             0  \n",
       "4                         0               60          N             0  \n",
       "...                     ...              ...        ...           ...  \n",
       "32588                     0               30          N             0  \n",
       "32589                     0               30          N             0  \n",
       "32590                     0               30          Y             0  \n",
       "32591                     0               30          N             1  \n",
       "32592                     0               30          N             0  \n",
       "\n",
       "[32593 rows x 9 columns]"
      ]
     },
     "execution_count": 2,
     "metadata": {},
     "output_type": "execute_result"
    }
   ],
   "source": [
    "compas = pd.read_csv('../datasets/studentinfo.csv').drop(columns = ['id_student', 'code_module', 'code_presentation'])\n",
    "compas['final_result'] = compas['final_result'].isin(['Withdrawn', 'Failed']).astype(int)\n",
    "compas"
   ]
  },
  {
   "cell_type": "code",
   "execution_count": 3,
   "metadata": {},
   "outputs": [
    {
     "data": {
      "text/plain": [
       "['studied_credits']"
      ]
     },
     "execution_count": 3,
     "metadata": {},
     "output_type": "execute_result"
    }
   ],
   "source": [
    "numeric_cols = [col for col in compas.columns if (is_numeric_dtype(compas[col]) == True) & (compas[col].nunique() > 11)]\n",
    "numeric_cols"
   ]
  },
  {
   "cell_type": "code",
   "execution_count": 4,
   "metadata": {},
   "outputs": [
    {
     "data": {
      "text/plain": [
       "studied_credits    61\n",
       "dtype: int64"
      ]
     },
     "execution_count": 4,
     "metadata": {},
     "output_type": "execute_result"
    }
   ],
   "source": [
    "compas[numeric_cols].nunique().sort_values(ascending=False)"
   ]
  },
  {
   "cell_type": "code",
   "execution_count": 5,
   "metadata": {},
   "outputs": [
    {
     "data": {
      "text/html": [
       "<div>\n",
       "<style scoped>\n",
       "    .dataframe tbody tr th:only-of-type {\n",
       "        vertical-align: middle;\n",
       "    }\n",
       "\n",
       "    .dataframe tbody tr th {\n",
       "        vertical-align: top;\n",
       "    }\n",
       "\n",
       "    .dataframe thead th {\n",
       "        text-align: right;\n",
       "    }\n",
       "</style>\n",
       "<table border=\"1\" class=\"dataframe\">\n",
       "  <thead>\n",
       "    <tr style=\"text-align: right;\">\n",
       "      <th></th>\n",
       "      <th>gender</th>\n",
       "      <th>region</th>\n",
       "      <th>highest_education</th>\n",
       "      <th>imd_band</th>\n",
       "      <th>age_band</th>\n",
       "      <th>num_of_prev_attempts</th>\n",
       "      <th>studied_credits</th>\n",
       "      <th>disability</th>\n",
       "      <th>final_result</th>\n",
       "    </tr>\n",
       "  </thead>\n",
       "  <tbody>\n",
       "    <tr>\n",
       "      <th>0</th>\n",
       "      <td>M</td>\n",
       "      <td>East Anglian Region</td>\n",
       "      <td>HE Qualification</td>\n",
       "      <td>90-100%</td>\n",
       "      <td>55&lt;=</td>\n",
       "      <td>0</td>\n",
       "      <td>240</td>\n",
       "      <td>N</td>\n",
       "      <td>0</td>\n",
       "    </tr>\n",
       "    <tr>\n",
       "      <th>1</th>\n",
       "      <td>F</td>\n",
       "      <td>Scotland</td>\n",
       "      <td>HE Qualification</td>\n",
       "      <td>20-30%</td>\n",
       "      <td>35-55</td>\n",
       "      <td>0</td>\n",
       "      <td>60</td>\n",
       "      <td>N</td>\n",
       "      <td>0</td>\n",
       "    </tr>\n",
       "    <tr>\n",
       "      <th>2</th>\n",
       "      <td>F</td>\n",
       "      <td>North Western Region</td>\n",
       "      <td>A Level or Equivalent</td>\n",
       "      <td>30-40%</td>\n",
       "      <td>35-55</td>\n",
       "      <td>0</td>\n",
       "      <td>60</td>\n",
       "      <td>Y</td>\n",
       "      <td>1</td>\n",
       "    </tr>\n",
       "    <tr>\n",
       "      <th>3</th>\n",
       "      <td>F</td>\n",
       "      <td>South East Region</td>\n",
       "      <td>A Level or Equivalent</td>\n",
       "      <td>50-60%</td>\n",
       "      <td>35-55</td>\n",
       "      <td>0</td>\n",
       "      <td>60</td>\n",
       "      <td>N</td>\n",
       "      <td>0</td>\n",
       "    </tr>\n",
       "    <tr>\n",
       "      <th>4</th>\n",
       "      <td>F</td>\n",
       "      <td>West Midlands Region</td>\n",
       "      <td>Lower Than A Level</td>\n",
       "      <td>50-60%</td>\n",
       "      <td>0-35</td>\n",
       "      <td>0</td>\n",
       "      <td>60</td>\n",
       "      <td>N</td>\n",
       "      <td>0</td>\n",
       "    </tr>\n",
       "  </tbody>\n",
       "</table>\n",
       "</div>"
      ],
      "text/plain": [
       "  gender                region      highest_education imd_band age_band  \\\n",
       "0      M   East Anglian Region       HE Qualification  90-100%     55<=   \n",
       "1      F              Scotland       HE Qualification   20-30%    35-55   \n",
       "2      F  North Western Region  A Level or Equivalent   30-40%    35-55   \n",
       "3      F     South East Region  A Level or Equivalent   50-60%    35-55   \n",
       "4      F  West Midlands Region     Lower Than A Level   50-60%     0-35   \n",
       "\n",
       "   num_of_prev_attempts  studied_credits disability  final_result  \n",
       "0                     0              240          N             0  \n",
       "1                     0               60          N             0  \n",
       "2                     0               60          Y             1  \n",
       "3                     0               60          N             0  \n",
       "4                     0               60          N             0  "
      ]
     },
     "execution_count": 5,
     "metadata": {},
     "output_type": "execute_result"
    }
   ],
   "source": [
    "compas.head()"
   ]
  },
  {
   "cell_type": "code",
   "execution_count": 6,
   "metadata": {},
   "outputs": [
    {
     "data": {
      "text/plain": [
       "(32593, 9)"
      ]
     },
     "execution_count": 6,
     "metadata": {},
     "output_type": "execute_result"
    }
   ],
   "source": [
    "compas.shape"
   ]
  },
  {
   "cell_type": "code",
   "execution_count": 7,
   "metadata": {},
   "outputs": [
    {
     "data": {
      "text/plain": [
       "Index(['gender', 'region', 'highest_education', 'imd_band', 'age_band',\n",
       "       'num_of_prev_attempts', 'studied_credits', 'disability',\n",
       "       'final_result'],\n",
       "      dtype='object')"
      ]
     },
     "execution_count": 7,
     "metadata": {},
     "output_type": "execute_result"
    }
   ],
   "source": [
    "compas.columns"
   ]
  },
  {
   "cell_type": "code",
   "execution_count": 8,
   "metadata": {},
   "outputs": [
    {
     "data": {
      "text/plain": [
       "gender                     0\n",
       "region                     0\n",
       "highest_education          0\n",
       "imd_band                1111\n",
       "age_band                   0\n",
       "num_of_prev_attempts       0\n",
       "studied_credits            0\n",
       "disability                 0\n",
       "final_result               0\n",
       "dtype: int64"
      ]
     },
     "execution_count": 8,
     "metadata": {},
     "output_type": "execute_result"
    }
   ],
   "source": [
    "compas.isna().sum()"
   ]
  },
  {
   "cell_type": "code",
   "execution_count": 9,
   "metadata": {},
   "outputs": [],
   "source": [
    "dff = compas.dropna()\n",
    "\n",
    "target_col = 'final_result'\n",
    "search_space = list(dff.drop(columns=[target_col]).columns)\n",
    "\n",
    "for col in numeric_cols:\n",
    "    dff[col] = pd.qcut(dff[col], 10, duplicates='drop')\n",
    "    dff[col] = dff[col].apply(lambda x: str(round(x.left, 2)) + ' - ' + str(round(x.right,2)))\n",
    "\n",
    "for col in search_space:\n",
    "    dff[col] = dff[col].astype(str)\n",
    "\n",
    "dff[target_col] =  dff[target_col].astype(int)\n",
    "expected_prob = dff[target_col].mean()\n",
    "dff['expected'] = expected_prob\n",
    "results = []\n"
   ]
  },
  {
   "cell_type": "code",
   "execution_count": 10,
   "metadata": {},
   "outputs": [
    {
     "data": {
      "text/plain": [
       "0.31510069245918304"
      ]
     },
     "execution_count": 10,
     "metadata": {},
     "output_type": "execute_result"
    }
   ],
   "source": [
    "expected_prob"
   ]
  },
  {
   "cell_type": "markdown",
   "metadata": {},
   "source": [
    "### MDSS"
   ]
  },
  {
   "cell_type": "code",
   "execution_count": 11,
   "metadata": {},
   "outputs": [],
   "source": [
    "from aif360.detectors.mdss.ScoringFunctions.BerkJones import BerkJones\n",
    "from aif360.detectors.mdss.MDSS import MDSS"
   ]
  },
  {
   "cell_type": "code",
   "execution_count": 12,
   "metadata": {},
   "outputs": [
    {
     "data": {
      "text/plain": [
       "({'imd_band': ['0-10%',\n",
       "   '10-20',\n",
       "   '20-30%',\n",
       "   '30-40%',\n",
       "   '40-50%',\n",
       "   '50-60%',\n",
       "   '60-70%',\n",
       "   '80-90%'],\n",
       "  'studied_credits': ['120.0 - 655.0', '90.0 - 120.0'],\n",
       "  'region': ['East Anglian Region',\n",
       "   'East Midlands Region',\n",
       "   'London Region',\n",
       "   'North Region',\n",
       "   'North Western Region',\n",
       "   'Scotland',\n",
       "   'South East Region',\n",
       "   'South Region',\n",
       "   'South West Region',\n",
       "   'West Midlands Region',\n",
       "   'Yorkshire Region']},\n",
       " 287.7639)"
      ]
     },
     "execution_count": 12,
     "metadata": {},
     "output_type": "execute_result"
    }
   ],
   "source": [
    "direction = 'positive'\n",
    "penalty = 1\n",
    "num_iters = 10\n",
    "\n",
    "\n",
    "scoring_function = BerkJones(direction=direction, alpha = expected_prob)\n",
    "scanner = MDSS(scoring_function)\n",
    "\n",
    "start = perf_counter()\n",
    "subset, score = scanner.parallel_scan(coordinates = dff[search_space], outcomes = dff[target_col], expectations = dff['expected'], penalty = penalty, num_iters = num_iters)\n",
    "end = perf_counter()\n",
    "\n",
    "subset, score\n"
   ]
  },
  {
   "cell_type": "code",
   "execution_count": 14,
   "metadata": {},
   "outputs": [
    {
     "data": {
      "text/plain": [
       "['mdss',\n",
       " {'imd_band': ['0-10%',\n",
       "   '10-20',\n",
       "   '20-30%',\n",
       "   '30-40%',\n",
       "   '40-50%',\n",
       "   '50-60%',\n",
       "   '60-70%',\n",
       "   '80-90%'],\n",
       "  'studied_credits': ['120.0 - 655.0', '90.0 - 120.0'],\n",
       "  'region': ['East Anglian Region',\n",
       "   'East Midlands Region',\n",
       "   'London Region',\n",
       "   'North Region',\n",
       "   'North Western Region',\n",
       "   'Scotland',\n",
       "   'South East Region',\n",
       "   'South Region',\n",
       "   'South West Region',\n",
       "   'West Midlands Region',\n",
       "   'Yorkshire Region']},\n",
       " 1.4724620104944357,\n",
       " 0.20367193952099613,\n",
       " 2.2589842507100446,\n",
       " 308.7639,\n",
       " 0.0303212743774766,\n",
       " 25.437177081]"
      ]
     },
     "execution_count": 14,
     "metadata": {},
     "output_type": "execute_result"
    }
   ],
   "source": [
    "get_metrics('mdss', dff, subset, target_col, start, end)"
   ]
  },
  {
   "cell_type": "code",
   "execution_count": 15,
   "metadata": {},
   "outputs": [],
   "source": [
    "dff = dff.drop(columns = 'expected')"
   ]
  },
  {
   "cell_type": "code",
   "execution_count": 16,
   "metadata": {},
   "outputs": [],
   "source": [
    "results.append(get_metrics('mdss', dff, subset, target_col, start, end))"
   ]
  },
  {
   "cell_type": "code",
   "execution_count": 17,
   "metadata": {},
   "outputs": [
    {
     "data": {
      "text/plain": [
       "[['mdss',\n",
       "  {'imd_band': ['0-10%',\n",
       "    '10-20',\n",
       "    '20-30%',\n",
       "    '30-40%',\n",
       "    '40-50%',\n",
       "    '50-60%',\n",
       "    '60-70%',\n",
       "    '80-90%'],\n",
       "   'studied_credits': ['120.0 - 655.0', '90.0 - 120.0'],\n",
       "   'region': ['East Anglian Region',\n",
       "    'East Midlands Region',\n",
       "    'London Region',\n",
       "    'North Region',\n",
       "    'North Western Region',\n",
       "    'Scotland',\n",
       "    'South East Region',\n",
       "    'South Region',\n",
       "    'South West Region',\n",
       "    'West Midlands Region',\n",
       "    'Yorkshire Region']},\n",
       "  1.4724620104944357,\n",
       "  0.20367193952099613,\n",
       "  2.2589842507100446,\n",
       "  308.7639,\n",
       "  0.0303212743774766,\n",
       "  25.437177081]]"
      ]
     },
     "execution_count": 17,
     "metadata": {},
     "output_type": "execute_result"
    }
   ],
   "source": [
    "results"
   ]
  },
  {
   "cell_type": "markdown",
   "metadata": {},
   "source": [
    "## PYSUBGROUP ON POLICE DATASET"
   ]
  },
  {
   "cell_type": "code",
   "execution_count": 18,
   "metadata": {},
   "outputs": [],
   "source": [
    "import pysubgroup as ps\n",
    "import ast"
   ]
  },
  {
   "cell_type": "code",
   "execution_count": 19,
   "metadata": {},
   "outputs": [],
   "source": [
    "target = ps.BinaryTarget (target_col, True)\n",
    "search_space = ps.create_selectors(dff, ignore=[target_col])\n",
    "\n",
    "task = ps.SubgroupDiscoveryTask (\n",
    "    data = dff, \n",
    "    target = target, \n",
    "    search_space = search_space, \n",
    "    result_set_size=1, \n",
    "    depth=5, \n",
    "    qf=ps.WRAccQF())\n",
    "\n",
    "start = perf_counter()   \n",
    "result = ps.BeamSearch().execute(task)\n",
    "end = perf_counter()"
   ]
  },
  {
   "cell_type": "code",
   "execution_count": 20,
   "metadata": {},
   "outputs": [
    {
     "data": {
      "text/plain": [
       "{'studied_credits': ['90.0 - 120.0']}"
      ]
     },
     "execution_count": 20,
     "metadata": {},
     "output_type": "execute_result"
    }
   ],
   "source": [
    "desc = result.to_dataframe()\n",
    "\n",
    "final_desc_format = []\n",
    "\n",
    "for index, row in desc.iterrows():\n",
    "    final_dict = {}\n",
    "    sub_desc_str = \"'\"+row['subgroup'].replace(\"AND \", \"],'\").replace(\"==\", \"':[\")+\"]\"\n",
    "    sub_desc_list = '{'+sub_desc_str+'}'\n",
    "    subset = ast.literal_eval(sub_desc_list)\n",
    "\n",
    "subset"
   ]
  },
  {
   "cell_type": "code",
   "execution_count": 21,
   "metadata": {},
   "outputs": [],
   "source": [
    "results.append(get_metrics('pysubgroup - beam search', dff, subset, target_col, start, end))"
   ]
  },
  {
   "cell_type": "code",
   "execution_count": 22,
   "metadata": {},
   "outputs": [
    {
     "data": {
      "text/plain": [
       "[['mdss',\n",
       "  {'imd_band': ['0-10%',\n",
       "    '10-20',\n",
       "    '20-30%',\n",
       "    '30-40%',\n",
       "    '40-50%',\n",
       "    '50-60%',\n",
       "    '60-70%',\n",
       "    '80-90%'],\n",
       "   'studied_credits': ['120.0 - 655.0', '90.0 - 120.0'],\n",
       "   'region': ['East Anglian Region',\n",
       "    'East Midlands Region',\n",
       "    'London Region',\n",
       "    'North Region',\n",
       "    'North Western Region',\n",
       "    'Scotland',\n",
       "    'South East Region',\n",
       "    'South Region',\n",
       "    'South West Region',\n",
       "    'West Midlands Region',\n",
       "    'Yorkshire Region']},\n",
       "  1.4724620104944357,\n",
       "  0.20367193952099613,\n",
       "  2.2589842507100446,\n",
       "  308.7639,\n",
       "  0.0303212743774766,\n",
       "  25.437177081],\n",
       " ['pysubgroup - beam search',\n",
       "  {'studied_credits': ['90.0 - 120.0']},\n",
       "  1.294611324650737,\n",
       "  0.19700146115240455,\n",
       "  1.6679527772618592,\n",
       "  118.4388,\n",
       "  0.018288085425581177,\n",
       "  0.7203770329999912]]"
      ]
     },
     "execution_count": 22,
     "metadata": {},
     "output_type": "execute_result"
    }
   ],
   "source": [
    "results"
   ]
  },
  {
   "cell_type": "markdown",
   "metadata": {},
   "source": [
    "### Pysubgroup with Apriori search"
   ]
  },
  {
   "cell_type": "code",
   "execution_count": 23,
   "metadata": {},
   "outputs": [
    {
     "name": "stdout",
     "output_type": "stream",
     "text": [
      "Apriori: Using numba for speedup\n",
      "28\n",
      "69\n",
      "76\n",
      "43\n"
     ]
    }
   ],
   "source": [
    "start = perf_counter()   \n",
    "result = ps.Apriori().execute(task)\n",
    "end = perf_counter()"
   ]
  },
  {
   "cell_type": "code",
   "execution_count": 24,
   "metadata": {},
   "outputs": [
    {
     "data": {
      "text/plain": [
       "{'studied_credits': ['90.0 - 120.0']}"
      ]
     },
     "execution_count": 24,
     "metadata": {},
     "output_type": "execute_result"
    }
   ],
   "source": [
    "desc = result.to_dataframe()\n",
    "\n",
    "final_desc_format = []\n",
    "\n",
    "for index, row in desc.iterrows():\n",
    "    final_dict = {}\n",
    "    sub_desc_str = \"'\"+row['subgroup'].replace(\"AND \", \"],'\").replace(\"==\", \"':[\")+\"]\"\n",
    "    sub_desc_list = '{'+sub_desc_str+'}'\n",
    "    subset = ast.literal_eval(sub_desc_list)\n",
    "\n",
    "subset"
   ]
  },
  {
   "cell_type": "code",
   "execution_count": 25,
   "metadata": {},
   "outputs": [],
   "source": [
    "results.append(get_metrics('pysubgroup - apriori', dff, subset, target_col, start, end))"
   ]
  },
  {
   "cell_type": "code",
   "execution_count": 26,
   "metadata": {},
   "outputs": [
    {
     "data": {
      "text/plain": [
       "[['mdss',\n",
       "  {'imd_band': ['0-10%',\n",
       "    '10-20',\n",
       "    '20-30%',\n",
       "    '30-40%',\n",
       "    '40-50%',\n",
       "    '50-60%',\n",
       "    '60-70%',\n",
       "    '80-90%'],\n",
       "   'studied_credits': ['120.0 - 655.0', '90.0 - 120.0'],\n",
       "   'region': ['East Anglian Region',\n",
       "    'East Midlands Region',\n",
       "    'London Region',\n",
       "    'North Region',\n",
       "    'North Western Region',\n",
       "    'Scotland',\n",
       "    'South East Region',\n",
       "    'South Region',\n",
       "    'South West Region',\n",
       "    'West Midlands Region',\n",
       "    'Yorkshire Region']},\n",
       "  1.4724620104944357,\n",
       "  0.20367193952099613,\n",
       "  2.2589842507100446,\n",
       "  308.7639,\n",
       "  0.0303212743774766,\n",
       "  25.437177081],\n",
       " ['pysubgroup - beam search',\n",
       "  {'studied_credits': ['90.0 - 120.0']},\n",
       "  1.294611324650737,\n",
       "  0.19700146115240455,\n",
       "  1.6679527772618592,\n",
       "  118.4388,\n",
       "  0.018288085425581177,\n",
       "  0.7203770329999912],\n",
       " ['pysubgroup - apriori',\n",
       "  {'studied_credits': ['90.0 - 120.0']},\n",
       "  1.294611324650737,\n",
       "  0.19700146115240455,\n",
       "  1.6679527772618592,\n",
       "  118.4388,\n",
       "  0.018288085425581177,\n",
       "  6.7160856770000095]]"
      ]
     },
     "execution_count": 26,
     "metadata": {},
     "output_type": "execute_result"
    }
   ],
   "source": [
    "results"
   ]
  },
  {
   "cell_type": "code",
   "execution_count": null,
   "metadata": {},
   "outputs": [],
   "source": []
  },
  {
   "cell_type": "markdown",
   "metadata": {},
   "source": [
    "## DIVEXPLORER ON POLICE DATASET"
   ]
  },
  {
   "cell_type": "code",
   "execution_count": 27,
   "metadata": {},
   "outputs": [],
   "source": [
    "from divexplorer.FP_DivergenceExplorer import FP_DivergenceExplorer\n",
    "from divexplorer.FP_Divergence import FP_Divergence\n",
    "from slicefinder.SliceLogisticRegression import MyFakeLR"
   ]
  },
  {
   "cell_type": "code",
   "execution_count": 28,
   "metadata": {},
   "outputs": [],
   "source": [
    "search_space = list(dff.drop(columns=[target_col]).columns)"
   ]
  },
  {
   "cell_type": "code",
   "execution_count": 29,
   "metadata": {},
   "outputs": [],
   "source": [
    "X = dff[search_space]\n",
    "y = dff[target_col]\n",
    "\n",
    "model = MyFakeLR().getModel()\n",
    "model.fit(X, y)\n",
    "\n",
    "predictions = (model.predict_proba(X)[:,1]>0.5).astype(int)"
   ]
  },
  {
   "cell_type": "code",
   "execution_count": 30,
   "metadata": {},
   "outputs": [],
   "source": [
    "dff['predictions'] = predictions"
   ]
  },
  {
   "cell_type": "markdown",
   "metadata": {},
   "source": [
    "#### DivExplorer - FpGrowth"
   ]
  },
  {
   "cell_type": "code",
   "execution_count": 31,
   "metadata": {},
   "outputs": [],
   "source": [
    "min_sup=0.1\n",
    "K = 1\n",
    "\n",
    "start = perf_counter()\n",
    "fp_diver=FP_DivergenceExplorer(dff, true_class_name = target_col, predicted_class_name = \"predictions\", class_map={\"P\":1, \"N\":0})\n",
    "FP_fm=fp_diver.getFrequentPatternDivergence(min_support=min_sup, metrics=[\"d_accuracy\"],FPM_type='fpgrowth')\n",
    "fp_divergence=FP_Divergence(FP_fm, \"d_accuracy\")\n",
    "FP_sorted=fp_divergence.getDivergence(th_redundancy=0)\n",
    "FP_sorted = FP_sorted.sort_values(by = \"d_accuracy\").head(K)\n",
    "end = perf_counter()"
   ]
  },
  {
   "cell_type": "code",
   "execution_count": 32,
   "metadata": {},
   "outputs": [
    {
     "data": {
      "text/html": [
       "<div>\n",
       "<style scoped>\n",
       "    .dataframe tbody tr th:only-of-type {\n",
       "        vertical-align: middle;\n",
       "    }\n",
       "\n",
       "    .dataframe tbody tr th {\n",
       "        vertical-align: top;\n",
       "    }\n",
       "\n",
       "    .dataframe thead th {\n",
       "        text-align: right;\n",
       "    }\n",
       "</style>\n",
       "<table border=\"1\" class=\"dataframe\">\n",
       "  <thead>\n",
       "    <tr style=\"text-align: right;\">\n",
       "      <th></th>\n",
       "      <th>support</th>\n",
       "      <th>itemsets</th>\n",
       "      <th>tn</th>\n",
       "      <th>fp</th>\n",
       "      <th>fn</th>\n",
       "      <th>tp</th>\n",
       "      <th>length</th>\n",
       "      <th>support_count</th>\n",
       "      <th>accuracy</th>\n",
       "      <th>d_accuracy</th>\n",
       "      <th>t_value_tp_tn</th>\n",
       "    </tr>\n",
       "  </thead>\n",
       "  <tbody>\n",
       "    <tr>\n",
       "      <th>106</th>\n",
       "      <td>0.158853</td>\n",
       "      <td>(num_of_prev_attempts=0, studied_credits=90.0 ...</td>\n",
       "      <td>2929</td>\n",
       "      <td>0</td>\n",
       "      <td>2072</td>\n",
       "      <td>0</td>\n",
       "      <td>2</td>\n",
       "      <td>5001.0</td>\n",
       "      <td>0.585683</td>\n",
       "      <td>-0.099216</td>\n",
       "      <td>13.339165</td>\n",
       "    </tr>\n",
       "  </tbody>\n",
       "</table>\n",
       "</div>"
      ],
      "text/plain": [
       "      support                                           itemsets    tn  fp  \\\n",
       "106  0.158853  (num_of_prev_attempts=0, studied_credits=90.0 ...  2929   0   \n",
       "\n",
       "       fn  tp  length  support_count  accuracy  d_accuracy  t_value_tp_tn  \n",
       "106  2072   0       2         5001.0  0.585683   -0.099216      13.339165  "
      ]
     },
     "execution_count": 32,
     "metadata": {},
     "output_type": "execute_result"
    }
   ],
   "source": [
    "FP_sorted"
   ]
  },
  {
   "cell_type": "code",
   "execution_count": 33,
   "metadata": {},
   "outputs": [],
   "source": [
    "itemsets_to_mdss = []\n",
    "\n",
    "for itemset in FP_sorted['itemsets']:\n",
    "    sub = {}\n",
    "    divStr = \"\"\n",
    "    for i in itemset:\n",
    "        conj = '\"'+i.replace(\"=\", '\":[\"') +'\"],'\n",
    "        divStr += conj\n",
    "    divStr = \"{\"+divStr.removesuffix(\",\")+\"}\"\n",
    "    subset =ast.literal_eval(divStr)"
   ]
  },
  {
   "cell_type": "code",
   "execution_count": 34,
   "metadata": {},
   "outputs": [],
   "source": [
    "results.append(get_metrics('divexplorer - fpgrowth', dff, subset, target_col, start, end))"
   ]
  },
  {
   "cell_type": "code",
   "execution_count": 35,
   "metadata": {},
   "outputs": [
    {
     "data": {
      "text/plain": [
       "[['mdss',\n",
       "  {'imd_band': ['0-10%',\n",
       "    '10-20',\n",
       "    '20-30%',\n",
       "    '30-40%',\n",
       "    '40-50%',\n",
       "    '50-60%',\n",
       "    '60-70%',\n",
       "    '80-90%'],\n",
       "   'studied_credits': ['120.0 - 655.0', '90.0 - 120.0'],\n",
       "   'region': ['East Anglian Region',\n",
       "    'East Midlands Region',\n",
       "    'London Region',\n",
       "    'North Region',\n",
       "    'North Western Region',\n",
       "    'Scotland',\n",
       "    'South East Region',\n",
       "    'South Region',\n",
       "    'South West Region',\n",
       "    'West Midlands Region',\n",
       "    'Yorkshire Region']},\n",
       "  1.4724620104944357,\n",
       "  0.20367193952099613,\n",
       "  2.2589842507100446,\n",
       "  308.7639,\n",
       "  0.0303212743774766,\n",
       "  25.437177081],\n",
       " ['pysubgroup - beam search',\n",
       "  {'studied_credits': ['90.0 - 120.0']},\n",
       "  1.294611324650737,\n",
       "  0.19700146115240455,\n",
       "  1.6679527772618592,\n",
       "  118.4388,\n",
       "  0.018288085425581177,\n",
       "  0.7203770329999912],\n",
       " ['pysubgroup - apriori',\n",
       "  {'studied_credits': ['90.0 - 120.0']},\n",
       "  1.294611324650737,\n",
       "  0.19700146115240455,\n",
       "  1.6679527772618592,\n",
       "  118.4388,\n",
       "  0.018288085425581177,\n",
       "  6.7160856770000095],\n",
       " ['divexplorer - fpgrowth',\n",
       "  {'num_of_prev_attempts': ['0'], 'studied_credits': ['90.0 - 120.0']},\n",
       "  1.314872186852952,\n",
       "  0.15885267772060224,\n",
       "  1.6795547634485055,\n",
       "  108.8191,\n",
       "  0.01576079782134635,\n",
       "  11.73266694599998]]"
      ]
     },
     "execution_count": 35,
     "metadata": {},
     "output_type": "execute_result"
    }
   ],
   "source": [
    "results"
   ]
  },
  {
   "cell_type": "code",
   "execution_count": 36,
   "metadata": {},
   "outputs": [],
   "source": [
    "dff = dff.drop(columns = 'predictions')"
   ]
  },
  {
   "cell_type": "markdown",
   "metadata": {},
   "source": [
    "## SLICEFINDER ON POLICE DATASET"
   ]
  },
  {
   "cell_type": "code",
   "execution_count": 37,
   "metadata": {},
   "outputs": [],
   "source": [
    "from slicefinder.slice_finder import SliceFinder\n",
    "# from slicefinder.decision_tree import DecisionTree\n",
    "import pickle\n",
    "from sklearn.preprocessing import LabelEncoder"
   ]
  },
  {
   "cell_type": "code",
   "execution_count": 38,
   "metadata": {},
   "outputs": [],
   "source": [
    "dff_sample = dff.sample(frac = 0.1)\n",
    "\n",
    "for column in search_space:\n",
    "    if dff_sample[column].dtype != \"int64\":\n",
    "        dff_sample[column] = dff_sample[column].astype('category')\n",
    "\n",
    "encoders = {}\n",
    "for column in search_space:\n",
    "    if dff_sample.dtypes[column] == \"object\" or dff_sample[column].dtypes.name == \"category\":\n",
    "        le = LabelEncoder()\n",
    "        dff_sample[column] = le.fit_transform(dff_sample[column])\n",
    "        encoders[column] = le\n",
    "\n",
    "pickle.dump(encoders, open(\"encoders.pkl\", \"wb\"), protocol=2)\n",
    "\n",
    "model = MyFakeLR().getModel()\n",
    "model.fit(dff[search_space], dff[target_col])"
   ]
  },
  {
   "cell_type": "code",
   "execution_count": 39,
   "metadata": {},
   "outputs": [
    {
     "name": "stdout",
     "output_type": "stream",
     "text": [
      "degree 1\n",
      "crossing\n",
      "effect size filtering\n",
      "degree 2\n",
      "crossing\n",
      "effect size filtering\n",
      "sorting\n",
      "region:North Western Region \n",
      "num_of_prev_attempts:2 \n"
     ]
    }
   ],
   "source": [
    "sf = SliceFinder(model, (dff_sample[search_space], dff_sample[target_col]))\n",
    "\n",
    "start = perf_counter()\n",
    "recommendations = sf.find_slice(k=1, epsilon=0.5, degree=5,max_workers=4, max_time=300)\n",
    "end = perf_counter()\n",
    "\n",
    "subset = {}\n",
    "for s in recommendations:\n",
    "    for k, v in list(s.filters.items()):\n",
    "        values = ''\n",
    "        if k in encoders:\n",
    "            le = encoders[k]\n",
    "            for v_ in v:\n",
    "                values += '%s '%(le.inverse_transform(v_)[0])\n",
    "        else:\n",
    "            for v_ in sorted(v, key=lambda x: x[0]):\n",
    "                if len(v_) > 1:\n",
    "                    values += '%s ~ %s'%(v_[0], v_[1])\n",
    "                else:\n",
    "                    values += '%s '%(v_[0])\n",
    "        print ('%s:%s'%(k, values))\n",
    "        temp_v = values.strip()\n",
    "        subset[k] = [temp_v]"
   ]
  },
  {
   "cell_type": "code",
   "execution_count": 40,
   "metadata": {},
   "outputs": [
    {
     "data": {
      "text/plain": [
       "['slice finder - lattice',\n",
       " {'region': ['North Western Region'], 'num_of_prev_attempts': ['2']},\n",
       " 1.8512600806451613,\n",
       " 0.001905850962454736,\n",
       " 3.0502579666160856,\n",
       " 9.1307,\n",
       " 0.000511211436771775,\n",
       " 260.772388852]"
      ]
     },
     "execution_count": 40,
     "metadata": {},
     "output_type": "execute_result"
    }
   ],
   "source": [
    "get_metrics('slice finder - lattice', dff, subset, target_col, start, end)"
   ]
  },
  {
   "cell_type": "code",
   "execution_count": 41,
   "metadata": {},
   "outputs": [],
   "source": [
    "results.append(get_metrics('slice finder - lattice', dff, subset, target_col, start, end))"
   ]
  },
  {
   "cell_type": "markdown",
   "metadata": {},
   "source": [
    "### Store Results"
   ]
  },
  {
   "cell_type": "code",
   "execution_count": 42,
   "metadata": {},
   "outputs": [
    {
     "data": {
      "text/html": [
       "<div>\n",
       "<style scoped>\n",
       "    .dataframe tbody tr th:only-of-type {\n",
       "        vertical-align: middle;\n",
       "    }\n",
       "\n",
       "    .dataframe tbody tr th {\n",
       "        vertical-align: top;\n",
       "    }\n",
       "\n",
       "    .dataframe thead th {\n",
       "        text-align: right;\n",
       "    }\n",
       "</style>\n",
       "<table border=\"1\" class=\"dataframe\">\n",
       "  <thead>\n",
       "    <tr style=\"text-align: right;\">\n",
       "      <th></th>\n",
       "      <th>method</th>\n",
       "      <th>subset</th>\n",
       "      <th>lift</th>\n",
       "      <th>support</th>\n",
       "      <th>odds_ratio</th>\n",
       "      <th>mdss_score</th>\n",
       "      <th>quality_score</th>\n",
       "      <th>time</th>\n",
       "    </tr>\n",
       "  </thead>\n",
       "  <tbody>\n",
       "    <tr>\n",
       "      <th>0</th>\n",
       "      <td>mdss</td>\n",
       "      <td>{'imd_band': ['0-10%', '10-20', '20-30%', '30-...</td>\n",
       "      <td>1.472462</td>\n",
       "      <td>0.203672</td>\n",
       "      <td>2.258984</td>\n",
       "      <td>308.7639</td>\n",
       "      <td>0.030321</td>\n",
       "      <td>25.437177</td>\n",
       "    </tr>\n",
       "    <tr>\n",
       "      <th>1</th>\n",
       "      <td>pysubgroup - beam search</td>\n",
       "      <td>{'studied_credits': ['90.0 - 120.0']}</td>\n",
       "      <td>1.294611</td>\n",
       "      <td>0.197001</td>\n",
       "      <td>1.667953</td>\n",
       "      <td>118.4388</td>\n",
       "      <td>0.018288</td>\n",
       "      <td>0.720377</td>\n",
       "    </tr>\n",
       "    <tr>\n",
       "      <th>2</th>\n",
       "      <td>pysubgroup - apriori</td>\n",
       "      <td>{'studied_credits': ['90.0 - 120.0']}</td>\n",
       "      <td>1.294611</td>\n",
       "      <td>0.197001</td>\n",
       "      <td>1.667953</td>\n",
       "      <td>118.4388</td>\n",
       "      <td>0.018288</td>\n",
       "      <td>6.716086</td>\n",
       "    </tr>\n",
       "    <tr>\n",
       "      <th>3</th>\n",
       "      <td>divexplorer - fpgrowth</td>\n",
       "      <td>{'num_of_prev_attempts': ['0'], 'studied_credi...</td>\n",
       "      <td>1.314872</td>\n",
       "      <td>0.158853</td>\n",
       "      <td>1.679555</td>\n",
       "      <td>108.8191</td>\n",
       "      <td>0.015761</td>\n",
       "      <td>11.732667</td>\n",
       "    </tr>\n",
       "    <tr>\n",
       "      <th>4</th>\n",
       "      <td>slice finder - lattice</td>\n",
       "      <td>{'region': ['North Western Region'], 'num_of_p...</td>\n",
       "      <td>1.851260</td>\n",
       "      <td>0.001906</td>\n",
       "      <td>3.050258</td>\n",
       "      <td>9.1307</td>\n",
       "      <td>0.000511</td>\n",
       "      <td>260.772389</td>\n",
       "    </tr>\n",
       "  </tbody>\n",
       "</table>\n",
       "</div>"
      ],
      "text/plain": [
       "                     method  \\\n",
       "0                      mdss   \n",
       "1  pysubgroup - beam search   \n",
       "2      pysubgroup - apriori   \n",
       "3    divexplorer - fpgrowth   \n",
       "4    slice finder - lattice   \n",
       "\n",
       "                                              subset      lift   support  \\\n",
       "0  {'imd_band': ['0-10%', '10-20', '20-30%', '30-...  1.472462  0.203672   \n",
       "1              {'studied_credits': ['90.0 - 120.0']}  1.294611  0.197001   \n",
       "2              {'studied_credits': ['90.0 - 120.0']}  1.294611  0.197001   \n",
       "3  {'num_of_prev_attempts': ['0'], 'studied_credi...  1.314872  0.158853   \n",
       "4  {'region': ['North Western Region'], 'num_of_p...  1.851260  0.001906   \n",
       "\n",
       "   odds_ratio  mdss_score  quality_score        time  \n",
       "0    2.258984    308.7639       0.030321   25.437177  \n",
       "1    1.667953    118.4388       0.018288    0.720377  \n",
       "2    1.667953    118.4388       0.018288    6.716086  \n",
       "3    1.679555    108.8191       0.015761   11.732667  \n",
       "4    3.050258      9.1307       0.000511  260.772389  "
      ]
     },
     "execution_count": 42,
     "metadata": {},
     "output_type": "execute_result"
    }
   ],
   "source": [
    "results_df = pd.DataFrame(results, columns = ['method', 'subset', 'lift', 'support', 'odds_ratio', 'mdss_score', 'quality_score', 'time'])\n",
    "results_df"
   ]
  },
  {
   "cell_type": "code",
   "execution_count": 43,
   "metadata": {},
   "outputs": [],
   "source": [
    "results_df.to_csv('../results/education.csv', index = False)"
   ]
  },
  {
   "cell_type": "code",
   "execution_count": 44,
   "metadata": {},
   "outputs": [
    {
     "data": {
      "text/plain": [
       "31175238377745"
      ]
     },
     "execution_count": 44,
     "metadata": {},
     "output_type": "execute_result"
    }
   ],
   "source": [
    "exp_total = 1\n",
    "\n",
    "for col in search_space:\n",
    "    exp_total *= (2**dff[col].nunique()) - 1\n",
    "\n",
    "exp_total"
   ]
  },
  {
   "cell_type": "code",
   "execution_count": 45,
   "metadata": {},
   "outputs": [
    {
     "data": {
      "text/plain": [
       "218400"
      ]
     },
     "execution_count": 45,
     "metadata": {},
     "output_type": "execute_result"
    }
   ],
   "source": [
    "poly_total = 1 \n",
    "\n",
    "for col in search_space:\n",
    "    poly_total *= dff[col].nunique()\n",
    "\n",
    "poly_total"
   ]
  },
  {
   "cell_type": "markdown",
   "metadata": {},
   "source": []
  },
  {
   "cell_type": "code",
   "execution_count": null,
   "metadata": {},
   "outputs": [],
   "source": []
  }
 ],
 "metadata": {
  "interpreter": {
   "hash": "31f2aee4e71d21fbe5cf8b01ff0e069b9275f58929596ceb00d14d90e3e16cd6"
  },
  "kernelspec": {
   "display_name": "winslow_env",
   "language": "python",
   "name": "python3"
  },
  "language_info": {
   "codemirror_mode": {
    "name": "ipython",
    "version": 3
   },
   "file_extension": ".py",
   "mimetype": "text/x-python",
   "name": "python",
   "nbconvert_exporter": "python",
   "pygments_lexer": "ipython3",
   "version": "3.9.7"
  },
  "orig_nbformat": 4,
  "vscode": {
   "interpreter": {
    "hash": "f00b402753e617a3ebfcd912330520459f7be6b35c2cebe9d90cc69f14b2729f"
   }
  }
 },
 "nbformat": 4,
 "nbformat_minor": 2
}
