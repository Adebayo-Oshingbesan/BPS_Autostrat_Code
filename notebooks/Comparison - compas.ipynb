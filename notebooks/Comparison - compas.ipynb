{
 "cells": [
  {
   "cell_type": "markdown",
   "metadata": {},
   "source": [
    "## MDSS SCAN ON AUTOSTRAT MODE "
   ]
  },
  {
   "cell_type": "markdown",
   "metadata": {},
   "source": [
    "Import the MDSS module and Bernoulli modules"
   ]
  },
  {
   "cell_type": "code",
   "execution_count": 1,
   "metadata": {},
   "outputs": [],
   "source": [
    "import pandas as pd\n",
    "\n",
    "import warnings\n",
    "from time import perf_counter\n",
    "\n",
    "from comp_metrics import get_metrics\n",
    "from pandas.api.types import is_numeric_dtype\n",
    "\n",
    "warnings.filterwarnings('ignore')"
   ]
  },
  {
   "cell_type": "markdown",
   "metadata": {},
   "source": [
    "### Data"
   ]
  },
  {
   "cell_type": "code",
   "execution_count": 2,
   "metadata": {},
   "outputs": [
    {
     "data": {
      "text/html": [
       "<div>\n",
       "<style scoped>\n",
       "    .dataframe tbody tr th:only-of-type {\n",
       "        vertical-align: middle;\n",
       "    }\n",
       "\n",
       "    .dataframe tbody tr th {\n",
       "        vertical-align: top;\n",
       "    }\n",
       "\n",
       "    .dataframe thead th {\n",
       "        text-align: right;\n",
       "    }\n",
       "</style>\n",
       "<table border=\"1\" class=\"dataframe\">\n",
       "  <thead>\n",
       "    <tr style=\"text-align: right;\">\n",
       "      <th></th>\n",
       "      <th>sex</th>\n",
       "      <th>age_cat</th>\n",
       "      <th>race</th>\n",
       "      <th>juv_fel_count</th>\n",
       "      <th>juv_misd_count</th>\n",
       "      <th>juv_other_count</th>\n",
       "      <th>priors_count</th>\n",
       "      <th>c_charge_degree</th>\n",
       "      <th>v_decile_score</th>\n",
       "    </tr>\n",
       "  </thead>\n",
       "  <tbody>\n",
       "    <tr>\n",
       "      <th>0</th>\n",
       "      <td>Male</td>\n",
       "      <td>Greater than 45</td>\n",
       "      <td>Other</td>\n",
       "      <td>0</td>\n",
       "      <td>0</td>\n",
       "      <td>0</td>\n",
       "      <td>0</td>\n",
       "      <td>F</td>\n",
       "      <td>1</td>\n",
       "    </tr>\n",
       "    <tr>\n",
       "      <th>1</th>\n",
       "      <td>Male</td>\n",
       "      <td>25 - 45</td>\n",
       "      <td>African-American</td>\n",
       "      <td>0</td>\n",
       "      <td>0</td>\n",
       "      <td>0</td>\n",
       "      <td>0</td>\n",
       "      <td>F</td>\n",
       "      <td>1</td>\n",
       "    </tr>\n",
       "    <tr>\n",
       "      <th>2</th>\n",
       "      <td>Male</td>\n",
       "      <td>Less than 25</td>\n",
       "      <td>African-American</td>\n",
       "      <td>0</td>\n",
       "      <td>1</td>\n",
       "      <td>0</td>\n",
       "      <td>1</td>\n",
       "      <td>F</td>\n",
       "      <td>6</td>\n",
       "    </tr>\n",
       "    <tr>\n",
       "      <th>3</th>\n",
       "      <td>Male</td>\n",
       "      <td>25 - 45</td>\n",
       "      <td>Other</td>\n",
       "      <td>0</td>\n",
       "      <td>0</td>\n",
       "      <td>0</td>\n",
       "      <td>2</td>\n",
       "      <td>F</td>\n",
       "      <td>1</td>\n",
       "    </tr>\n",
       "    <tr>\n",
       "      <th>4</th>\n",
       "      <td>Male</td>\n",
       "      <td>25 - 45</td>\n",
       "      <td>Other</td>\n",
       "      <td>0</td>\n",
       "      <td>0</td>\n",
       "      <td>0</td>\n",
       "      <td>0</td>\n",
       "      <td>M</td>\n",
       "      <td>1</td>\n",
       "    </tr>\n",
       "    <tr>\n",
       "      <th>...</th>\n",
       "      <td>...</td>\n",
       "      <td>...</td>\n",
       "      <td>...</td>\n",
       "      <td>...</td>\n",
       "      <td>...</td>\n",
       "      <td>...</td>\n",
       "      <td>...</td>\n",
       "      <td>...</td>\n",
       "      <td>...</td>\n",
       "    </tr>\n",
       "    <tr>\n",
       "      <th>4738</th>\n",
       "      <td>Male</td>\n",
       "      <td>Less than 25</td>\n",
       "      <td>African-American</td>\n",
       "      <td>0</td>\n",
       "      <td>0</td>\n",
       "      <td>0</td>\n",
       "      <td>0</td>\n",
       "      <td>F</td>\n",
       "      <td>9</td>\n",
       "    </tr>\n",
       "    <tr>\n",
       "      <th>4739</th>\n",
       "      <td>Male</td>\n",
       "      <td>Less than 25</td>\n",
       "      <td>African-American</td>\n",
       "      <td>0</td>\n",
       "      <td>0</td>\n",
       "      <td>0</td>\n",
       "      <td>0</td>\n",
       "      <td>F</td>\n",
       "      <td>5</td>\n",
       "    </tr>\n",
       "    <tr>\n",
       "      <th>4740</th>\n",
       "      <td>Male</td>\n",
       "      <td>Less than 25</td>\n",
       "      <td>African-American</td>\n",
       "      <td>0</td>\n",
       "      <td>0</td>\n",
       "      <td>0</td>\n",
       "      <td>0</td>\n",
       "      <td>F</td>\n",
       "      <td>5</td>\n",
       "    </tr>\n",
       "    <tr>\n",
       "      <th>4741</th>\n",
       "      <td>Male</td>\n",
       "      <td>Greater than 45</td>\n",
       "      <td>Other</td>\n",
       "      <td>0</td>\n",
       "      <td>0</td>\n",
       "      <td>0</td>\n",
       "      <td>0</td>\n",
       "      <td>F</td>\n",
       "      <td>1</td>\n",
       "    </tr>\n",
       "    <tr>\n",
       "      <th>4742</th>\n",
       "      <td>Female</td>\n",
       "      <td>25 - 45</td>\n",
       "      <td>African-American</td>\n",
       "      <td>0</td>\n",
       "      <td>0</td>\n",
       "      <td>0</td>\n",
       "      <td>3</td>\n",
       "      <td>M</td>\n",
       "      <td>2</td>\n",
       "    </tr>\n",
       "  </tbody>\n",
       "</table>\n",
       "<p>4743 rows × 9 columns</p>\n",
       "</div>"
      ],
      "text/plain": [
       "         sex          age_cat              race  juv_fel_count  \\\n",
       "0       Male  Greater than 45             Other              0   \n",
       "1       Male          25 - 45  African-American              0   \n",
       "2       Male     Less than 25  African-American              0   \n",
       "3       Male          25 - 45             Other              0   \n",
       "4       Male          25 - 45             Other              0   \n",
       "...      ...              ...               ...            ...   \n",
       "4738    Male     Less than 25  African-American              0   \n",
       "4739    Male     Less than 25  African-American              0   \n",
       "4740    Male     Less than 25  African-American              0   \n",
       "4741    Male  Greater than 45             Other              0   \n",
       "4742  Female          25 - 45  African-American              0   \n",
       "\n",
       "      juv_misd_count  juv_other_count  priors_count c_charge_degree  \\\n",
       "0                  0                0             0               F   \n",
       "1                  0                0             0               F   \n",
       "2                  1                0             1               F   \n",
       "3                  0                0             2               F   \n",
       "4                  0                0             0               M   \n",
       "...              ...              ...           ...             ...   \n",
       "4738               0                0             0               F   \n",
       "4739               0                0             0               F   \n",
       "4740               0                0             0               F   \n",
       "4741               0                0             0               F   \n",
       "4742               0                0             3               M   \n",
       "\n",
       "      v_decile_score  \n",
       "0                  1  \n",
       "1                  1  \n",
       "2                  6  \n",
       "3                  1  \n",
       "4                  1  \n",
       "...              ...  \n",
       "4738               9  \n",
       "4739               5  \n",
       "4740               5  \n",
       "4741               1  \n",
       "4742               2  \n",
       "\n",
       "[4743 rows x 9 columns]"
      ]
     },
     "execution_count": 2,
     "metadata": {},
     "output_type": "execute_result"
    }
   ],
   "source": [
    "compas = pd.read_csv('../datasets/compas-scores-two-years-violent.csv')\n",
    "cols = ['sex', 'age_cat', 'race', 'juv_fel_count', 'juv_misd_count', 'juv_other_count', 'priors_count', 'c_charge_degree', 'v_decile_score']\n",
    "compas = compas[cols]\n",
    "compas"
   ]
  },
  {
   "cell_type": "code",
   "execution_count": 3,
   "metadata": {},
   "outputs": [
    {
     "data": {
      "text/plain": [
       "['juv_fel_count', 'juv_misd_count', 'juv_other_count', 'priors_count']"
      ]
     },
     "execution_count": 3,
     "metadata": {},
     "output_type": "execute_result"
    }
   ],
   "source": [
    "numeric_cols = [col for col in compas.columns if 'count' in col]\n",
    "numeric_cols"
   ]
  },
  {
   "cell_type": "code",
   "execution_count": 4,
   "metadata": {},
   "outputs": [
    {
     "data": {
      "text/plain": [
       "priors_count       33\n",
       "juv_fel_count       9\n",
       "juv_other_count     9\n",
       "juv_misd_count      8\n",
       "dtype: int64"
      ]
     },
     "execution_count": 4,
     "metadata": {},
     "output_type": "execute_result"
    }
   ],
   "source": [
    "compas[numeric_cols].nunique().sort_values(ascending=False)"
   ]
  },
  {
   "cell_type": "code",
   "execution_count": 5,
   "metadata": {},
   "outputs": [
    {
     "data": {
      "text/html": [
       "<div>\n",
       "<style scoped>\n",
       "    .dataframe tbody tr th:only-of-type {\n",
       "        vertical-align: middle;\n",
       "    }\n",
       "\n",
       "    .dataframe tbody tr th {\n",
       "        vertical-align: top;\n",
       "    }\n",
       "\n",
       "    .dataframe thead th {\n",
       "        text-align: right;\n",
       "    }\n",
       "</style>\n",
       "<table border=\"1\" class=\"dataframe\">\n",
       "  <thead>\n",
       "    <tr style=\"text-align: right;\">\n",
       "      <th></th>\n",
       "      <th>sex</th>\n",
       "      <th>age_cat</th>\n",
       "      <th>race</th>\n",
       "      <th>juv_fel_count</th>\n",
       "      <th>juv_misd_count</th>\n",
       "      <th>juv_other_count</th>\n",
       "      <th>priors_count</th>\n",
       "      <th>c_charge_degree</th>\n",
       "      <th>v_decile_score</th>\n",
       "    </tr>\n",
       "  </thead>\n",
       "  <tbody>\n",
       "    <tr>\n",
       "      <th>0</th>\n",
       "      <td>Male</td>\n",
       "      <td>Greater than 45</td>\n",
       "      <td>Other</td>\n",
       "      <td>0</td>\n",
       "      <td>0</td>\n",
       "      <td>0</td>\n",
       "      <td>0</td>\n",
       "      <td>F</td>\n",
       "      <td>1</td>\n",
       "    </tr>\n",
       "    <tr>\n",
       "      <th>1</th>\n",
       "      <td>Male</td>\n",
       "      <td>25 - 45</td>\n",
       "      <td>African-American</td>\n",
       "      <td>0</td>\n",
       "      <td>0</td>\n",
       "      <td>0</td>\n",
       "      <td>0</td>\n",
       "      <td>F</td>\n",
       "      <td>1</td>\n",
       "    </tr>\n",
       "    <tr>\n",
       "      <th>2</th>\n",
       "      <td>Male</td>\n",
       "      <td>Less than 25</td>\n",
       "      <td>African-American</td>\n",
       "      <td>0</td>\n",
       "      <td>1</td>\n",
       "      <td>0</td>\n",
       "      <td>1</td>\n",
       "      <td>F</td>\n",
       "      <td>6</td>\n",
       "    </tr>\n",
       "    <tr>\n",
       "      <th>3</th>\n",
       "      <td>Male</td>\n",
       "      <td>25 - 45</td>\n",
       "      <td>Other</td>\n",
       "      <td>0</td>\n",
       "      <td>0</td>\n",
       "      <td>0</td>\n",
       "      <td>2</td>\n",
       "      <td>F</td>\n",
       "      <td>1</td>\n",
       "    </tr>\n",
       "    <tr>\n",
       "      <th>4</th>\n",
       "      <td>Male</td>\n",
       "      <td>25 - 45</td>\n",
       "      <td>Other</td>\n",
       "      <td>0</td>\n",
       "      <td>0</td>\n",
       "      <td>0</td>\n",
       "      <td>0</td>\n",
       "      <td>M</td>\n",
       "      <td>1</td>\n",
       "    </tr>\n",
       "  </tbody>\n",
       "</table>\n",
       "</div>"
      ],
      "text/plain": [
       "    sex          age_cat              race  juv_fel_count  juv_misd_count  \\\n",
       "0  Male  Greater than 45             Other              0               0   \n",
       "1  Male          25 - 45  African-American              0               0   \n",
       "2  Male     Less than 25  African-American              0               1   \n",
       "3  Male          25 - 45             Other              0               0   \n",
       "4  Male          25 - 45             Other              0               0   \n",
       "\n",
       "   juv_other_count  priors_count c_charge_degree  v_decile_score  \n",
       "0                0             0               F               1  \n",
       "1                0             0               F               1  \n",
       "2                0             1               F               6  \n",
       "3                0             2               F               1  \n",
       "4                0             0               M               1  "
      ]
     },
     "execution_count": 5,
     "metadata": {},
     "output_type": "execute_result"
    }
   ],
   "source": [
    "compas.head()"
   ]
  },
  {
   "cell_type": "code",
   "execution_count": 6,
   "metadata": {},
   "outputs": [
    {
     "data": {
      "text/plain": [
       "(4743, 9)"
      ]
     },
     "execution_count": 6,
     "metadata": {},
     "output_type": "execute_result"
    }
   ],
   "source": [
    "compas.shape"
   ]
  },
  {
   "cell_type": "code",
   "execution_count": 7,
   "metadata": {},
   "outputs": [
    {
     "data": {
      "text/plain": [
       "Index(['sex', 'age_cat', 'race', 'juv_fel_count', 'juv_misd_count',\n",
       "       'juv_other_count', 'priors_count', 'c_charge_degree', 'v_decile_score'],\n",
       "      dtype='object')"
      ]
     },
     "execution_count": 7,
     "metadata": {},
     "output_type": "execute_result"
    }
   ],
   "source": [
    "compas.columns"
   ]
  },
  {
   "cell_type": "code",
   "execution_count": 8,
   "metadata": {},
   "outputs": [
    {
     "data": {
      "text/plain": [
       "sex                0\n",
       "age_cat            0\n",
       "race               0\n",
       "juv_fel_count      0\n",
       "juv_misd_count     0\n",
       "juv_other_count    0\n",
       "priors_count       0\n",
       "c_charge_degree    0\n",
       "v_decile_score     0\n",
       "dtype: int64"
      ]
     },
     "execution_count": 8,
     "metadata": {},
     "output_type": "execute_result"
    }
   ],
   "source": [
    "compas.isna().sum()"
   ]
  },
  {
   "cell_type": "code",
   "execution_count": 9,
   "metadata": {},
   "outputs": [],
   "source": [
    "dff = compas.dropna()\n",
    "\n",
    "target_col = 'v_decile_score'\n",
    "search_space =  list(dff.drop(columns=[target_col]).columns)\n",
    "\n",
    "for col in numeric_cols:\n",
    "    dff[col] = pd.qcut(dff[col], 10, duplicates='drop')\n",
    "    dff[col] = dff[col].apply(lambda x: str(round(x.left, 2)) + ' - ' + str(round(x.right,2)))\n",
    "\n",
    "for col in search_space:\n",
    "    dff[col] = dff[col].astype(str)\n",
    "\n",
    "dff[target_col] = (dff[target_col] > 5).astype(int)\n",
    "expected_prob = dff[target_col].mean()\n",
    "dff['expected'] = expected_prob\n",
    "results = []\n"
   ]
  },
  {
   "cell_type": "code",
   "execution_count": 10,
   "metadata": {},
   "outputs": [
    {
     "data": {
      "text/plain": [
       "0.20430107526881722"
      ]
     },
     "execution_count": 10,
     "metadata": {},
     "output_type": "execute_result"
    }
   ],
   "source": [
    "expected_prob"
   ]
  },
  {
   "cell_type": "markdown",
   "metadata": {},
   "source": [
    "### MDSS"
   ]
  },
  {
   "cell_type": "code",
   "execution_count": 11,
   "metadata": {},
   "outputs": [],
   "source": [
    "from aif360.detectors.mdss.ScoringFunctions.BerkJones import BerkJones\n",
    "from aif360.detectors.mdss.MDSS import MDSS"
   ]
  },
  {
   "cell_type": "code",
   "execution_count": 12,
   "metadata": {},
   "outputs": [
    {
     "data": {
      "text/plain": [
       "({'age_cat': ['Less than 25']}, 264.0578)"
      ]
     },
     "execution_count": 12,
     "metadata": {},
     "output_type": "execute_result"
    }
   ],
   "source": [
    "direction = 'positive'\n",
    "penalty = 10\n",
    "num_iters = 10\n",
    "\n",
    "\n",
    "scoring_function = BerkJones(direction=direction, alpha = expected_prob)\n",
    "scanner = MDSS(scoring_function)\n",
    "\n",
    "start = perf_counter()\n",
    "subset, score = scanner.parallel_scan(coordinates = dff[search_space], outcomes = dff[target_col], expectations = dff['expected'], penalty = penalty, num_iters = num_iters)\n",
    "end = perf_counter()\n",
    "\n",
    "subset, score\n"
   ]
  },
  {
   "cell_type": "code",
   "execution_count": 13,
   "metadata": {},
   "outputs": [
    {
     "data": {
      "text/plain": [
       "['mdss',\n",
       " {'age_cat': ['Less than 25']},\n",
       " 2.7690225563909774,\n",
       " 0.18448239510858105,\n",
       " 9.327281812125252,\n",
       " 274.0578,\n",
       " 0.06667437468686167,\n",
       " 3.0317575639999994]"
      ]
     },
     "execution_count": 13,
     "metadata": {},
     "output_type": "execute_result"
    }
   ],
   "source": [
    "get_metrics('mdss', dff, subset, target_col, start, end)"
   ]
  },
  {
   "cell_type": "code",
   "execution_count": 14,
   "metadata": {},
   "outputs": [],
   "source": [
    "dff = dff.drop(columns = 'expected')"
   ]
  },
  {
   "cell_type": "code",
   "execution_count": 15,
   "metadata": {},
   "outputs": [],
   "source": [
    "results.append(get_metrics('mdss', dff, subset, target_col, start, end))"
   ]
  },
  {
   "cell_type": "code",
   "execution_count": 16,
   "metadata": {},
   "outputs": [
    {
     "data": {
      "text/plain": [
       "[['mdss',\n",
       "  {'age_cat': ['Less than 25']},\n",
       "  2.7690225563909774,\n",
       "  0.18448239510858105,\n",
       "  9.327281812125252,\n",
       "  274.0578,\n",
       "  0.06667437468686167,\n",
       "  3.0317575639999994]]"
      ]
     },
     "execution_count": 16,
     "metadata": {},
     "output_type": "execute_result"
    }
   ],
   "source": [
    "results"
   ]
  },
  {
   "cell_type": "markdown",
   "metadata": {},
   "source": [
    "## PYSUBGROUP ON POLICE DATASET"
   ]
  },
  {
   "cell_type": "code",
   "execution_count": 17,
   "metadata": {},
   "outputs": [],
   "source": [
    "import pysubgroup as ps\n",
    "import ast"
   ]
  },
  {
   "cell_type": "code",
   "execution_count": 18,
   "metadata": {},
   "outputs": [],
   "source": [
    "target = ps.BinaryTarget (target_col, True)\n",
    "search_space = ps.create_selectors(dff, ignore=[target_col])\n",
    "\n",
    "task = ps.SubgroupDiscoveryTask (\n",
    "    data = dff, \n",
    "    target = target, \n",
    "    search_space = search_space, \n",
    "    result_set_size=1, \n",
    "    depth=5, \n",
    "    qf=ps.WRAccQF())\n",
    "\n",
    "start = perf_counter()   \n",
    "result = ps.BeamSearch().execute(task)\n",
    "end = perf_counter()"
   ]
  },
  {
   "cell_type": "code",
   "execution_count": 19,
   "metadata": {},
   "outputs": [
    {
     "data": {
      "text/plain": [
       "{'age_cat': ['Less than 25']}"
      ]
     },
     "execution_count": 19,
     "metadata": {},
     "output_type": "execute_result"
    }
   ],
   "source": [
    "desc = result.to_dataframe()\n",
    "\n",
    "final_desc_format = []\n",
    "\n",
    "for index, row in desc.iterrows():\n",
    "    final_dict = {}\n",
    "    sub_desc_str = \"'\"+row['subgroup'].replace(\"AND \", \"],'\").replace(\"==\", \"':[\")+\"]\"\n",
    "    sub_desc_list = '{'+sub_desc_str+'}'\n",
    "    subset = ast.literal_eval(sub_desc_list)\n",
    "\n",
    "subset"
   ]
  },
  {
   "cell_type": "code",
   "execution_count": 20,
   "metadata": {},
   "outputs": [],
   "source": [
    "results.append(get_metrics('pysubgroup - beam search', dff, subset, target_col, start, end))"
   ]
  },
  {
   "cell_type": "code",
   "execution_count": 21,
   "metadata": {},
   "outputs": [
    {
     "data": {
      "text/plain": [
       "[['mdss',\n",
       "  {'age_cat': ['Less than 25']},\n",
       "  2.7690225563909774,\n",
       "  0.18448239510858105,\n",
       "  9.327281812125252,\n",
       "  274.0578,\n",
       "  0.06667437468686167,\n",
       "  3.0317575639999994],\n",
       " ['pysubgroup - beam search',\n",
       "  {'age_cat': ['Less than 25']},\n",
       "  2.7690225563909774,\n",
       "  0.18448239510858105,\n",
       "  9.327281812125252,\n",
       "  274.0578,\n",
       "  0.06667437468686167,\n",
       "  0.0140874610000008]]"
      ]
     },
     "execution_count": 21,
     "metadata": {},
     "output_type": "execute_result"
    }
   ],
   "source": [
    "results"
   ]
  },
  {
   "cell_type": "markdown",
   "metadata": {},
   "source": [
    "### Pysubgroup with Apriori search"
   ]
  },
  {
   "cell_type": "code",
   "execution_count": 22,
   "metadata": {},
   "outputs": [
    {
     "name": "stdout",
     "output_type": "stream",
     "text": [
      "Apriori: Using numba for speedup\n",
      "9\n",
      "26\n",
      "35\n",
      "24\n"
     ]
    }
   ],
   "source": [
    "start = perf_counter()   \n",
    "result = ps.Apriori().execute(task)\n",
    "end = perf_counter()"
   ]
  },
  {
   "cell_type": "code",
   "execution_count": 23,
   "metadata": {},
   "outputs": [
    {
     "data": {
      "text/plain": [
       "{'age_cat': ['Less than 25']}"
      ]
     },
     "execution_count": 23,
     "metadata": {},
     "output_type": "execute_result"
    }
   ],
   "source": [
    "desc = result.to_dataframe()\n",
    "\n",
    "final_desc_format = []\n",
    "\n",
    "for index, row in desc.iterrows():\n",
    "    final_dict = {}\n",
    "    sub_desc_str = \"'\"+row['subgroup'].replace(\"AND \", \"],'\").replace(\"==\", \"':[\")+\"]\"\n",
    "    sub_desc_list = '{'+sub_desc_str+'}'\n",
    "    subset = ast.literal_eval(sub_desc_list)\n",
    "\n",
    "subset"
   ]
  },
  {
   "cell_type": "code",
   "execution_count": 24,
   "metadata": {},
   "outputs": [],
   "source": [
    "results.append(get_metrics('pysubgroup - apriori', dff, subset, target_col, start, end))"
   ]
  },
  {
   "cell_type": "code",
   "execution_count": 25,
   "metadata": {},
   "outputs": [
    {
     "data": {
      "text/plain": [
       "[['mdss',\n",
       "  {'age_cat': ['Less than 25']},\n",
       "  2.7690225563909774,\n",
       "  0.18448239510858105,\n",
       "  9.327281812125252,\n",
       "  274.0578,\n",
       "  0.06667437468686167,\n",
       "  3.0317575639999994],\n",
       " ['pysubgroup - beam search',\n",
       "  {'age_cat': ['Less than 25']},\n",
       "  2.7690225563909774,\n",
       "  0.18448239510858105,\n",
       "  9.327281812125252,\n",
       "  274.0578,\n",
       "  0.06667437468686167,\n",
       "  0.0140874610000008],\n",
       " ['pysubgroup - apriori',\n",
       "  {'age_cat': ['Less than 25']},\n",
       "  2.7690225563909774,\n",
       "  0.18448239510858105,\n",
       "  9.327281812125252,\n",
       "  274.0578,\n",
       "  0.06667437468686167,\n",
       "  1.3025313599999997]]"
      ]
     },
     "execution_count": 25,
     "metadata": {},
     "output_type": "execute_result"
    }
   ],
   "source": [
    "results"
   ]
  },
  {
   "cell_type": "code",
   "execution_count": null,
   "metadata": {},
   "outputs": [],
   "source": []
  },
  {
   "cell_type": "markdown",
   "metadata": {},
   "source": [
    "## DIVEXPLORER ON POLICE DATASET"
   ]
  },
  {
   "cell_type": "code",
   "execution_count": 26,
   "metadata": {},
   "outputs": [],
   "source": [
    "from divexplorer.FP_DivergenceExplorer import FP_DivergenceExplorer\n",
    "from divexplorer.FP_Divergence import FP_Divergence\n",
    "from slicefinder.SliceLogisticRegression import MyFakeLR"
   ]
  },
  {
   "cell_type": "code",
   "execution_count": 27,
   "metadata": {},
   "outputs": [],
   "source": [
    "search_space = list(dff.drop(columns=[target_col]).columns)"
   ]
  },
  {
   "cell_type": "code",
   "execution_count": 28,
   "metadata": {},
   "outputs": [],
   "source": [
    "X = dff[search_space]\n",
    "y = dff[target_col]\n",
    "\n",
    "model = MyFakeLR().getModel()\n",
    "model.fit(X, y)\n",
    "\n",
    "predictions = (model.predict_proba(X)[:,1]>0.5).astype(int)"
   ]
  },
  {
   "cell_type": "code",
   "execution_count": 29,
   "metadata": {},
   "outputs": [],
   "source": [
    "dff['predictions'] = predictions"
   ]
  },
  {
   "cell_type": "markdown",
   "metadata": {},
   "source": [
    "#### DivExplorer - FpGrowth"
   ]
  },
  {
   "cell_type": "code",
   "execution_count": 30,
   "metadata": {},
   "outputs": [],
   "source": [
    "min_sup=0.1\n",
    "K = 1\n",
    "\n",
    "start = perf_counter()\n",
    "fp_diver=FP_DivergenceExplorer(dff, true_class_name = target_col, predicted_class_name = \"predictions\", class_map={\"P\":1, \"N\":0})\n",
    "FP_fm=fp_diver.getFrequentPatternDivergence(min_support=min_sup, metrics=[\"d_accuracy\"],FPM_type='fpgrowth')\n",
    "fp_divergence=FP_Divergence(FP_fm, \"d_accuracy\")\n",
    "FP_sorted=fp_divergence.getDivergence(th_redundancy=0)\n",
    "FP_sorted = FP_sorted.sort_values(by = \"d_accuracy\").head(K)\n",
    "end = perf_counter()"
   ]
  },
  {
   "cell_type": "code",
   "execution_count": 31,
   "metadata": {},
   "outputs": [
    {
     "data": {
      "text/html": [
       "<div>\n",
       "<style scoped>\n",
       "    .dataframe tbody tr th:only-of-type {\n",
       "        vertical-align: middle;\n",
       "    }\n",
       "\n",
       "    .dataframe tbody tr th {\n",
       "        vertical-align: top;\n",
       "    }\n",
       "\n",
       "    .dataframe thead th {\n",
       "        text-align: right;\n",
       "    }\n",
       "</style>\n",
       "<table border=\"1\" class=\"dataframe\">\n",
       "  <thead>\n",
       "    <tr style=\"text-align: right;\">\n",
       "      <th></th>\n",
       "      <th>support</th>\n",
       "      <th>itemsets</th>\n",
       "      <th>tn</th>\n",
       "      <th>fp</th>\n",
       "      <th>fn</th>\n",
       "      <th>tp</th>\n",
       "      <th>length</th>\n",
       "      <th>support_count</th>\n",
       "      <th>accuracy</th>\n",
       "      <th>d_accuracy</th>\n",
       "      <th>t_value_tp_tn</th>\n",
       "    </tr>\n",
       "  </thead>\n",
       "  <tbody>\n",
       "    <tr>\n",
       "      <th>567</th>\n",
       "      <td>0.104575</td>\n",
       "      <td>(age_cat=Less than 25, race=African-American)</td>\n",
       "      <td>185</td>\n",
       "      <td>0</td>\n",
       "      <td>311</td>\n",
       "      <td>0</td>\n",
       "      <td>2</td>\n",
       "      <td>496.0</td>\n",
       "      <td>0.372984</td>\n",
       "      <td>-0.422715</td>\n",
       "      <td>18.815923</td>\n",
       "    </tr>\n",
       "  </tbody>\n",
       "</table>\n",
       "</div>"
      ],
      "text/plain": [
       "      support                                       itemsets   tn  fp   fn  \\\n",
       "567  0.104575  (age_cat=Less than 25, race=African-American)  185   0  311   \n",
       "\n",
       "     tp  length  support_count  accuracy  d_accuracy  t_value_tp_tn  \n",
       "567   0       2          496.0  0.372984   -0.422715      18.815923  "
      ]
     },
     "execution_count": 31,
     "metadata": {},
     "output_type": "execute_result"
    }
   ],
   "source": [
    "FP_sorted"
   ]
  },
  {
   "cell_type": "code",
   "execution_count": 32,
   "metadata": {},
   "outputs": [],
   "source": [
    "itemsets_to_mdss = []\n",
    "\n",
    "for itemset in FP_sorted['itemsets']:\n",
    "    sub = {}\n",
    "    divStr = \"\"\n",
    "    for i in itemset:\n",
    "        conj = '\"'+i.replace(\"=\", '\":[\"') +'\"],'\n",
    "        divStr += conj\n",
    "    divStr = \"{\"+divStr.removesuffix(\",\")+\"}\"\n",
    "    subset =ast.literal_eval(divStr)"
   ]
  },
  {
   "cell_type": "code",
   "execution_count": 33,
   "metadata": {},
   "outputs": [
    {
     "data": {
      "text/plain": [
       "['divexplorer - fpgrowth',\n",
       " {'age_cat': ['Less than 25'], 'race': ['African-American']},\n",
       " 3.0690789473684212,\n",
       " 0.10457516339869281,\n",
       " 9.169300911854105,\n",
       " 208.5765,\n",
       " 0.04420549581839905,\n",
       " 0.36785375000000187]"
      ]
     },
     "execution_count": 33,
     "metadata": {},
     "output_type": "execute_result"
    }
   ],
   "source": [
    "get_metrics('divexplorer - fpgrowth', dff, subset, target_col, start, end)"
   ]
  },
  {
   "cell_type": "code",
   "execution_count": 34,
   "metadata": {},
   "outputs": [],
   "source": [
    "results.append(get_metrics('divexplorer - fpgrowth', dff, subset, target_col, start, end))"
   ]
  },
  {
   "cell_type": "code",
   "execution_count": 35,
   "metadata": {},
   "outputs": [
    {
     "data": {
      "text/plain": [
       "[['mdss',\n",
       "  {'age_cat': ['Less than 25']},\n",
       "  2.7690225563909774,\n",
       "  0.18448239510858105,\n",
       "  9.327281812125252,\n",
       "  274.0578,\n",
       "  0.06667437468686167,\n",
       "  3.0317575639999994],\n",
       " ['pysubgroup - beam search',\n",
       "  {'age_cat': ['Less than 25']},\n",
       "  2.7690225563909774,\n",
       "  0.18448239510858105,\n",
       "  9.327281812125252,\n",
       "  274.0578,\n",
       "  0.06667437468686167,\n",
       "  0.0140874610000008],\n",
       " ['pysubgroup - apriori',\n",
       "  {'age_cat': ['Less than 25']},\n",
       "  2.7690225563909774,\n",
       "  0.18448239510858105,\n",
       "  9.327281812125252,\n",
       "  274.0578,\n",
       "  0.06667437468686167,\n",
       "  1.3025313599999997],\n",
       " ['divexplorer - fpgrowth',\n",
       "  {'age_cat': ['Less than 25'], 'race': ['African-American']},\n",
       "  3.0690789473684212,\n",
       "  0.10457516339869281,\n",
       "  9.169300911854105,\n",
       "  208.5765,\n",
       "  0.04420549581839905,\n",
       "  0.36785375000000187]]"
      ]
     },
     "execution_count": 35,
     "metadata": {},
     "output_type": "execute_result"
    }
   ],
   "source": [
    "results"
   ]
  },
  {
   "cell_type": "code",
   "execution_count": 36,
   "metadata": {},
   "outputs": [],
   "source": [
    "dff = dff.drop(columns = 'predictions')"
   ]
  },
  {
   "cell_type": "markdown",
   "metadata": {},
   "source": [
    "## SLICEFINDER ON POLICE DATASET"
   ]
  },
  {
   "cell_type": "code",
   "execution_count": 37,
   "metadata": {},
   "outputs": [],
   "source": [
    "from slicefinder.slice_finder import SliceFinder\n",
    "# from slicefinder.decision_tree import DecisionTree\n",
    "import pickle\n",
    "from sklearn.preprocessing import LabelEncoder"
   ]
  },
  {
   "cell_type": "code",
   "execution_count": 38,
   "metadata": {},
   "outputs": [],
   "source": [
    "dff_sample = dff.sample(frac = 0.1)\n",
    "\n",
    "for column in search_space:\n",
    "    if dff_sample[column].dtype != \"int64\":\n",
    "        dff_sample[column] = dff_sample[column].astype('category')\n",
    "\n",
    "encoders = {}\n",
    "for column in search_space:\n",
    "    if dff_sample.dtypes[column] == \"object\" or dff_sample[column].dtypes.name == \"category\":\n",
    "        le = LabelEncoder()\n",
    "        dff_sample[column] = le.fit_transform(dff_sample[column])\n",
    "        encoders[column] = le\n",
    "\n",
    "pickle.dump(encoders, open(\"encoders.pkl\", \"wb\"), protocol=2)\n",
    "\n",
    "model = MyFakeLR().getModel()\n",
    "model.fit(dff[search_space], dff[target_col])"
   ]
  },
  {
   "cell_type": "code",
   "execution_count": 39,
   "metadata": {},
   "outputs": [
    {
     "name": "stdout",
     "output_type": "stream",
     "text": [
      "degree 1\n",
      "crossing\n",
      "effect size filtering\n",
      "sorting\n",
      "age_cat:Less than 25 \n"
     ]
    }
   ],
   "source": [
    "sf = SliceFinder(model, (dff_sample[search_space], dff_sample[target_col]))\n",
    "\n",
    "start = perf_counter()\n",
    "recommendations = sf.find_slice(k=1, epsilon=0.5, degree=5,max_workers=4, max_time=300)\n",
    "end = perf_counter()\n",
    "\n",
    "subset = {}\n",
    "for s in recommendations:\n",
    "    for k, v in list(s.filters.items()):\n",
    "        values = ''\n",
    "        if k in encoders:\n",
    "            le = encoders[k]\n",
    "            for v_ in v:\n",
    "                values += '%s '%(le.inverse_transform(v_)[0])\n",
    "        else:\n",
    "            for v_ in sorted(v, key=lambda x: x[0]):\n",
    "                if len(v_) > 1:\n",
    "                    values += '%s ~ %s'%(v_[0], v_[1])\n",
    "                else:\n",
    "                    values += '%s '%(v_[0])\n",
    "        print ('%s:%s'%(k, values))\n",
    "        temp_v = values.strip()\n",
    "        subset[k] = [temp_v]"
   ]
  },
  {
   "cell_type": "code",
   "execution_count": 40,
   "metadata": {},
   "outputs": [],
   "source": [
    "results.append(get_metrics('slice finder - lattice', dff, subset, target_col, start, end))"
   ]
  },
  {
   "cell_type": "markdown",
   "metadata": {},
   "source": [
    "### Store Results"
   ]
  },
  {
   "cell_type": "code",
   "execution_count": 41,
   "metadata": {},
   "outputs": [
    {
     "data": {
      "text/html": [
       "<div>\n",
       "<style scoped>\n",
       "    .dataframe tbody tr th:only-of-type {\n",
       "        vertical-align: middle;\n",
       "    }\n",
       "\n",
       "    .dataframe tbody tr th {\n",
       "        vertical-align: top;\n",
       "    }\n",
       "\n",
       "    .dataframe thead th {\n",
       "        text-align: right;\n",
       "    }\n",
       "</style>\n",
       "<table border=\"1\" class=\"dataframe\">\n",
       "  <thead>\n",
       "    <tr style=\"text-align: right;\">\n",
       "      <th></th>\n",
       "      <th>method</th>\n",
       "      <th>subset</th>\n",
       "      <th>lift</th>\n",
       "      <th>support</th>\n",
       "      <th>odds_ratio</th>\n",
       "      <th>mdss_score</th>\n",
       "      <th>quality_score</th>\n",
       "      <th>time</th>\n",
       "    </tr>\n",
       "  </thead>\n",
       "  <tbody>\n",
       "    <tr>\n",
       "      <th>0</th>\n",
       "      <td>mdss</td>\n",
       "      <td>{'age_cat': ['Less than 25']}</td>\n",
       "      <td>2.769023</td>\n",
       "      <td>0.184482</td>\n",
       "      <td>9.327282</td>\n",
       "      <td>274.0578</td>\n",
       "      <td>0.066674</td>\n",
       "      <td>3.031758</td>\n",
       "    </tr>\n",
       "    <tr>\n",
       "      <th>1</th>\n",
       "      <td>pysubgroup - beam search</td>\n",
       "      <td>{'age_cat': ['Less than 25']}</td>\n",
       "      <td>2.769023</td>\n",
       "      <td>0.184482</td>\n",
       "      <td>9.327282</td>\n",
       "      <td>274.0578</td>\n",
       "      <td>0.066674</td>\n",
       "      <td>0.014087</td>\n",
       "    </tr>\n",
       "    <tr>\n",
       "      <th>2</th>\n",
       "      <td>pysubgroup - apriori</td>\n",
       "      <td>{'age_cat': ['Less than 25']}</td>\n",
       "      <td>2.769023</td>\n",
       "      <td>0.184482</td>\n",
       "      <td>9.327282</td>\n",
       "      <td>274.0578</td>\n",
       "      <td>0.066674</td>\n",
       "      <td>1.302531</td>\n",
       "    </tr>\n",
       "    <tr>\n",
       "      <th>3</th>\n",
       "      <td>divexplorer - fpgrowth</td>\n",
       "      <td>{'age_cat': ['Less than 25'], 'race': ['Africa...</td>\n",
       "      <td>3.069079</td>\n",
       "      <td>0.104575</td>\n",
       "      <td>9.169301</td>\n",
       "      <td>208.5765</td>\n",
       "      <td>0.044205</td>\n",
       "      <td>0.367854</td>\n",
       "    </tr>\n",
       "    <tr>\n",
       "      <th>4</th>\n",
       "      <td>slice finder - lattice</td>\n",
       "      <td>{'age_cat': ['Less than 25']}</td>\n",
       "      <td>2.769023</td>\n",
       "      <td>0.184482</td>\n",
       "      <td>9.327282</td>\n",
       "      <td>274.0578</td>\n",
       "      <td>0.066674</td>\n",
       "      <td>3.480051</td>\n",
       "    </tr>\n",
       "  </tbody>\n",
       "</table>\n",
       "</div>"
      ],
      "text/plain": [
       "                     method  \\\n",
       "0                      mdss   \n",
       "1  pysubgroup - beam search   \n",
       "2      pysubgroup - apriori   \n",
       "3    divexplorer - fpgrowth   \n",
       "4    slice finder - lattice   \n",
       "\n",
       "                                              subset      lift   support  \\\n",
       "0                      {'age_cat': ['Less than 25']}  2.769023  0.184482   \n",
       "1                      {'age_cat': ['Less than 25']}  2.769023  0.184482   \n",
       "2                      {'age_cat': ['Less than 25']}  2.769023  0.184482   \n",
       "3  {'age_cat': ['Less than 25'], 'race': ['Africa...  3.069079  0.104575   \n",
       "4                      {'age_cat': ['Less than 25']}  2.769023  0.184482   \n",
       "\n",
       "   odds_ratio  mdss_score  quality_score      time  \n",
       "0    9.327282    274.0578       0.066674  3.031758  \n",
       "1    9.327282    274.0578       0.066674  0.014087  \n",
       "2    9.327282    274.0578       0.066674  1.302531  \n",
       "3    9.169301    208.5765       0.044205  0.367854  \n",
       "4    9.327282    274.0578       0.066674  3.480051  "
      ]
     },
     "execution_count": 41,
     "metadata": {},
     "output_type": "execute_result"
    }
   ],
   "source": [
    "results_df = pd.DataFrame(results, columns = ['method', 'subset', 'lift', 'support', 'odds_ratio', 'mdss_score', 'quality_score', 'time'])\n",
    "results_df"
   ]
  },
  {
   "cell_type": "code",
   "execution_count": 42,
   "metadata": {},
   "outputs": [],
   "source": [
    "results_df.to_csv('../results/compas.csv', index = False)"
   ]
  },
  {
   "cell_type": "code",
   "execution_count": 43,
   "metadata": {},
   "outputs": [
    {
     "data": {
      "text/plain": [
       "250047"
      ]
     },
     "execution_count": 43,
     "metadata": {},
     "output_type": "execute_result"
    }
   ],
   "source": [
    "exp_total = 1\n",
    "\n",
    "for col in search_space:\n",
    "    exp_total *= (2**dff[col].nunique()) - 1\n",
    "\n",
    "exp_total"
   ]
  },
  {
   "cell_type": "markdown",
   "metadata": {},
   "source": []
  },
  {
   "cell_type": "code",
   "execution_count": 44,
   "metadata": {},
   "outputs": [
    {
     "data": {
      "text/plain": [
       "432"
      ]
     },
     "execution_count": 44,
     "metadata": {},
     "output_type": "execute_result"
    }
   ],
   "source": [
    "poly_total = 1 \n",
    "\n",
    "for col in search_space:\n",
    "    poly_total *= dff[col].nunique()\n",
    "\n",
    "poly_total"
   ]
  },
  {
   "cell_type": "markdown",
   "metadata": {},
   "source": []
  },
  {
   "cell_type": "markdown",
   "metadata": {},
   "source": [
    "print(recommendations[0])"
   ]
  },
  {
   "cell_type": "markdown",
   "metadata": {},
   "source": [
    "recommendations[0].__ancestry__()"
   ]
  },
  {
   "cell_type": "markdown",
   "metadata": {},
   "source": [
    "tree_finder = DecisionTree((dff_sample[search_space], dff_sample[target_col]), model)\n",
    "\n",
    "start = perf_counter()\n",
    "tree_finder.fit(max_depth = 5)\n",
    "recommendations = tree_finder.recommend_slices(k = 1, min_effect_size = 0.5)\n",
    "end = perf_counter()\n",
    "\n",
    "subset = {}\n",
    "for s in recommendations:\n",
    "    for k, v in list(s.filters.items()):\n",
    "        values = ''\n",
    "        if k in encoders:\n",
    "            le = encoders[k]\n",
    "            for v_ in v:\n",
    "                values += '%s '%(le.inverse_transform(v_)[0])\n",
    "        else:\n",
    "            for v_ in sorted(v, key=lambda x: x[0]):\n",
    "                if len(v_) > 1:\n",
    "                    values += '%s ~ %s'%(v_[0], v_[1])\n",
    "                else:\n",
    "                    values += '%s '%(v_[0])\n",
    "        print ('%s:%s'%(k, values))\n",
    "        temp_v = values.strip()\n",
    "        subset[k] = [temp_v]"
   ]
  },
  {
   "cell_type": "markdown",
   "metadata": {},
   "source": [
    "['slice finder - tree', subset, \\\n",
    "    lift(dff, subset, target_col), \\\n",
    "    support(dff, subset), \\\n",
    "    odds_ratio(dff, subset, target_col, expected_prob), \\\n",
    "    end - start]"
   ]
  },
  {
   "cell_type": "code",
   "execution_count": null,
   "metadata": {},
   "outputs": [],
   "source": []
  }
 ],
 "metadata": {
  "interpreter": {
   "hash": "31f2aee4e71d21fbe5cf8b01ff0e069b9275f58929596ceb00d14d90e3e16cd6"
  },
  "kernelspec": {
   "display_name": "winslow_env",
   "language": "python",
   "name": "python3"
  },
  "language_info": {
   "codemirror_mode": {
    "name": "ipython",
    "version": 3
   },
   "file_extension": ".py",
   "mimetype": "text/x-python",
   "name": "python",
   "nbconvert_exporter": "python",
   "pygments_lexer": "ipython3",
   "version": "3.9.7"
  },
  "orig_nbformat": 4,
  "vscode": {
   "interpreter": {
    "hash": "f00b402753e617a3ebfcd912330520459f7be6b35c2cebe9d90cc69f14b2729f"
   }
  }
 },
 "nbformat": 4,
 "nbformat_minor": 2
}
